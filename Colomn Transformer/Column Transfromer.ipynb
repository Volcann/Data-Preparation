{
 "cells": [
  {
   "cell_type": "markdown",
   "id": "477768f3-fc77-4d1c-ba57-2570f5efddda",
   "metadata": {},
   "source": [
    "## Step 1: Solve the Problem Without ColumnTransformer\n",
    "### 1.1 Import Necessary Libraries 📚"
   ]
  },
  {
   "cell_type": "code",
   "execution_count": 1,
   "id": "61e30c87-353c-4d7f-9e86-0c560184f315",
   "metadata": {},
   "outputs": [],
   "source": [
    "import pandas as pd  # 🐼 Importing pandas for data manipulation\n",
    "from sklearn.preprocessing import OneHotEncoder, StandardScaler  # 🔄 For encoding and scaling\n",
    "from sklearn.compose import ColumnTransformer  # 🧩 For applying column transformations"
   ]
  },
  {
   "cell_type": "markdown",
   "id": "013db4df-2361-4f80-ab68-d316e4acc476",
   "metadata": {},
   "source": [
    "### 1.2 Create a Toy Dataset 🎲"
   ]
  },
  {
   "cell_type": "code",
   "execution_count": 2,
   "id": "92ef6096-ca81-40bc-bb42-da1e796c836e",
   "metadata": {},
   "outputs": [
    {
     "data": {
      "text/html": [
       "<div>\n",
       "<style scoped>\n",
       "    .dataframe tbody tr th:only-of-type {\n",
       "        vertical-align: middle;\n",
       "    }\n",
       "\n",
       "    .dataframe tbody tr th {\n",
       "        vertical-align: top;\n",
       "    }\n",
       "\n",
       "    .dataframe thead th {\n",
       "        text-align: right;\n",
       "    }\n",
       "</style>\n",
       "<table border=\"1\" class=\"dataframe\">\n",
       "  <thead>\n",
       "    <tr style=\"text-align: right;\">\n",
       "      <th></th>\n",
       "      <th>City</th>\n",
       "      <th>Temperature</th>\n",
       "      <th>Humidity</th>\n",
       "    </tr>\n",
       "  </thead>\n",
       "  <tbody>\n",
       "    <tr>\n",
       "      <th>0</th>\n",
       "      <td>New York</td>\n",
       "      <td>85</td>\n",
       "      <td>70</td>\n",
       "    </tr>\n",
       "    <tr>\n",
       "      <th>1</th>\n",
       "      <td>Los Angeles</td>\n",
       "      <td>90</td>\n",
       "      <td>65</td>\n",
       "    </tr>\n",
       "    <tr>\n",
       "      <th>2</th>\n",
       "      <td>Chicago</td>\n",
       "      <td>78</td>\n",
       "      <td>80</td>\n",
       "    </tr>\n",
       "    <tr>\n",
       "      <th>3</th>\n",
       "      <td>Houston</td>\n",
       "      <td>92</td>\n",
       "      <td>60</td>\n",
       "    </tr>\n",
       "    <tr>\n",
       "      <th>4</th>\n",
       "      <td>Phoenix</td>\n",
       "      <td>105</td>\n",
       "      <td>50</td>\n",
       "    </tr>\n",
       "  </tbody>\n",
       "</table>\n",
       "</div>"
      ],
      "text/plain": [
       "          City  Temperature  Humidity\n",
       "0     New York           85        70\n",
       "1  Los Angeles           90        65\n",
       "2      Chicago           78        80\n",
       "3      Houston           92        60\n",
       "4      Phoenix          105        50"
      ]
     },
     "execution_count": 2,
     "metadata": {},
     "output_type": "execute_result"
    }
   ],
   "source": [
    "# 🛠️ Creating a simple toy dataset with categorical and numerical columns\n",
    "data = {\n",
    "    'City': ['New York', 'Los Angeles', 'Chicago', 'Houston', 'Phoenix'],\n",
    "    'Temperature': [85, 90, 78, 92, 105],\n",
    "    'Humidity': [70, 65, 80, 60, 50]\n",
    "}\n",
    "df = pd.DataFrame(data)  # 📋 Converting the dictionary into a DataFrame for easier manipulation\n",
    "df"
   ]
  },
  {
   "cell_type": "markdown",
   "id": "a3815dc6-a063-4f10-a4f3-80fb0e37d311",
   "metadata": {},
   "source": [
    "### 1.3 Separate Numerical and Categorical Columns 🔍"
   ]
  },
  {
   "cell_type": "code",
   "execution_count": 3,
   "id": "a3d0fa8b-2cd1-4815-ac49-7dd836b8d8eb",
   "metadata": {},
   "outputs": [],
   "source": [
    "# ✂️ Splitting the data into numerical and categorical subsets\n",
    "numerical_features = df[['Temperature', 'Humidity']]  # 🌡️ Focusing on numerical columns (Temperature and Humidity)\n",
    "categorical_features = df[['City']]  # 🏙️ Focusing on the categorical column (City)"
   ]
  },
  {
   "cell_type": "markdown",
   "id": "64e1be02-f915-424a-9c7f-034361f09ef5",
   "metadata": {},
   "source": [
    "### 1.4 Apply Transformations Individually ⚙️"
   ]
  },
  {
   "cell_type": "code",
   "execution_count": 5,
   "id": "3202f98a-0596-43b3-8f60-ebacc8387fdd",
   "metadata": {},
   "outputs": [],
   "source": [
    "# 🌈 One-hot encoding the categorical column (City) to convert it into numerical format\n",
    "encoder = OneHotEncoder(sparse_output=False)\n",
    "encoded_cities = encoder.fit_transform(categorical_features)\n",
    "\n",
    "# 📏 Scaling the numerical features for normalization\n",
    "scaler = StandardScaler()\n",
    "scaled_numerical = scaler.fit_transform(numerical_features)"
   ]
  },
  {
   "cell_type": "markdown",
   "id": "37533fa8-8232-45a3-a402-d44c472ef723",
   "metadata": {},
   "source": [
    "### 1.5 Combine Transformed Features 🔗"
   ]
  },
  {
   "cell_type": "code",
   "execution_count": 6,
   "id": "15524984-a0fb-49a8-bb79-2a5fcde31574",
   "metadata": {},
   "outputs": [
    {
     "data": {
      "text/plain": [
       "array([[ 0.        ,  0.        ,  0.        ,  1.        ,  0.        ,\n",
       "        -0.5604198 ,  0.5       ],\n",
       "       [ 0.        ,  0.        ,  1.        ,  0.        ,  0.        ,\n",
       "         0.        ,  0.        ],\n",
       "       [ 1.        ,  0.        ,  0.        ,  0.        ,  0.        ,\n",
       "        -1.34500752,  1.5       ],\n",
       "       [ 0.        ,  1.        ,  0.        ,  0.        ,  0.        ,\n",
       "         0.22416792, -0.5       ],\n",
       "       [ 0.        ,  0.        ,  0.        ,  0.        ,  1.        ,\n",
       "         1.6812594 , -1.5       ]])"
      ]
     },
     "execution_count": 6,
     "metadata": {},
     "output_type": "execute_result"
    }
   ],
   "source": [
    "# 🔗 Combining the transformed categorical and numerical features into one array\n",
    "import numpy as np\n",
    "\n",
    "transformed_data = np.hstack([encoded_cities, scaled_numerical])\n",
    "transformed_data"
   ]
  },
  {
   "cell_type": "markdown",
   "id": "13462162-ccd8-46bb-a465-1c0cdb147d5b",
   "metadata": {},
   "source": [
    "## Step 2: Solve the Problem with ColumnTransformer\n",
    "### 2.1 Apply ColumnTransformer 🧩"
   ]
  },
  {
   "cell_type": "code",
   "execution_count": 7,
   "id": "f125569d-d6d9-4c55-a3c2-385aa2a1936e",
   "metadata": {},
   "outputs": [],
   "source": [
    "from sklearn.compose import ColumnTransformer  # 🧩 For applying multiple transformations in a streamlined way\n",
    "\n",
    "# 🏗️ Constructing the ColumnTransformer to handle both categorical and numerical columns in one go\n",
    "column_transformer = ColumnTransformer(\n",
    "    transformers=[\n",
    "        ('encoder', OneHotEncoder(), ['City']),  # 🌈 Encoding the 'City' column\n",
    "        ('scaler', StandardScaler(), ['Temperature', 'Humidity'])  # 📏 Scaling the numerical columns\n",
    "    ]\n",
    ")"
   ]
  },
  {
   "cell_type": "markdown",
   "id": "d0822f34-92ae-4ac8-a945-78d344bc0561",
   "metadata": {},
   "source": [
    "### 2.2 Fit and Transform the Dataset Using ColumnTransformer 🚀"
   ]
  },
  {
   "cell_type": "code",
   "execution_count": 8,
   "id": "dda97856-6bd5-456b-9f54-ac1aecf31b2e",
   "metadata": {},
   "outputs": [
    {
     "data": {
      "text/plain": [
       "array([[ 0.        ,  0.        ,  0.        ,  1.        ,  0.        ,\n",
       "        -0.5604198 ,  0.5       ],\n",
       "       [ 0.        ,  0.        ,  1.        ,  0.        ,  0.        ,\n",
       "         0.        ,  0.        ],\n",
       "       [ 1.        ,  0.        ,  0.        ,  0.        ,  0.        ,\n",
       "        -1.34500752,  1.5       ],\n",
       "       [ 0.        ,  1.        ,  0.        ,  0.        ,  0.        ,\n",
       "         0.22416792, -0.5       ],\n",
       "       [ 0.        ,  0.        ,  0.        ,  0.        ,  1.        ,\n",
       "         1.6812594 , -1.5       ]])"
      ]
     },
     "execution_count": 8,
     "metadata": {},
     "output_type": "execute_result"
    }
   ],
   "source": [
    "# 🚀 Applying the transformations to the entire DataFrame at once\n",
    "transformed_data_with_ct = column_transformer.fit_transform(df)\n",
    "transformed_data_with_ct"
   ]
  },
  {
   "cell_type": "markdown",
   "id": "8e94d050-c35d-4cb1-9497-0e85c89f4b3d",
   "metadata": {},
   "source": [
    "## Final Remarks 🌟\n",
    "- **Without ColumnTransformer:** \n",
    "    - We manually encoded the categorical data and scaled the numerical data. Afterward, we combined them into a single dataset. This approach works, but it requires more steps and manual handling.\n",
    "- **With ColumnTransformer:** \n",
    "    - The ColumnTransformer allows you to streamline this process, handling both categorical and numerical data in one step. It's more efficient and less error-prone, especially with larger datasets and more complex transformations."
   ]
  }
 ],
 "metadata": {
  "kernelspec": {
   "display_name": "Python 3 (ipykernel)",
   "language": "python",
   "name": "python3"
  },
  "language_info": {
   "codemirror_mode": {
    "name": "ipython",
    "version": 3
   },
   "file_extension": ".py",
   "mimetype": "text/x-python",
   "name": "python",
   "nbconvert_exporter": "python",
   "pygments_lexer": "ipython3",
   "version": "3.11.7"
  }
 },
 "nbformat": 4,
 "nbformat_minor": 5
}
