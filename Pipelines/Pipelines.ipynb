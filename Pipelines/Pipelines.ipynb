{
 "cells": [
  {
   "cell_type": "markdown",
   "id": "cf65ca98-b746-4043-a4d3-cd69e5e875b6",
   "metadata": {},
   "source": [
    "## 🎯 Project Goal:\n",
    "Create a machine learning pipeline to classify a toy dataset using scikit-learn. We'll walk through each step, from data preprocessing to model evaluation.\n",
    "\n",
    "### 1. 🧰 Step 1: Import Libraries\n",
    "**Description:** We need to import the necessary libraries for building and evaluating the pipeline. The key libraries include scikit-learn for machine learning tasks and pandas for data handling."
   ]
  },
  {
   "cell_type": "markdown",
   "id": "c4b1c16c-3176-4477-87b1-6c802e564040",
   "metadata": {},
   "source": [
    "import pandas as pd\n",
    "from sklearn.datasets import load_iris\n",
    "from sklearn.model_selection import train_test_split\n",
    "from sklearn.preprocessing import StandardScaler\n",
    "from sklearn.decomposition import PCA\n",
    "from sklearn.svm import SVC\n",
    "from sklearn.pipeline import Pipeline\n",
    "from sklearn.metrics import accuracy_score"
   ]
  },
  {
   "cell_type": "code",
   "execution_count": 1,
   "id": "78674cba-62e5-4f3f-b5f6-f0db58c3178b",
   "metadata": {},
   "outputs": [],
   "source": [
    "import pandas as pd\n",
    "from sklearn.datasets import load_iris\n",
    "from sklearn.model_selection import train_test_split\n",
    "from sklearn.preprocessing import StandardScaler\n",
    "from sklearn.decomposition import PCA\n",
    "from sklearn.svm import SVC\n",
    "from sklearn.pipeline import Pipeline\n",
    "from sklearn.metrics import accuracy_score"
   ]
  },
  {
   "cell_type": "markdown",
   "id": "14edf7b4-c7f0-42b9-bdde-e64946480e77",
   "metadata": {},
   "source": [
    "### 2. 📊 Step 2: Load the Toy Dataset\n",
    "**Description:** We'll use the famous Iris dataset, a small dataset with 150 samples of iris flowers, categorized into three species. This dataset is included in scikit-learn."
   ]
  },
  {
   "cell_type": "code",
   "execution_count": 2,
   "id": "de6b37ed-0065-4651-8c22-c9c8e2367729",
   "metadata": {},
   "outputs": [],
   "source": [
    "iris = load_iris()\n",
    "X = iris.data\n",
    "y = iris.target"
   ]
  },
  {
   "cell_type": "code",
   "execution_count": 9,
   "id": "806cb14a-49b5-4b97-a97a-8aecd861faa3",
   "metadata": {},
   "outputs": [
    {
     "data": {
      "text/plain": [
       "array([0, 0, 0, 0, 0, 0, 0, 0, 0, 0, 0, 0, 0, 0, 0, 0, 0, 0, 0, 0, 0, 0,\n",
       "       0, 0, 0, 0, 0, 0, 0, 0, 0, 0, 0, 0, 0, 0, 0, 0, 0, 0, 0, 0, 0, 0,\n",
       "       0, 0, 0, 0, 0, 0, 1, 1, 1, 1, 1, 1, 1, 1, 1, 1, 1, 1, 1, 1, 1, 1,\n",
       "       1, 1, 1, 1, 1, 1, 1, 1, 1, 1, 1, 1, 1, 1, 1, 1, 1, 1, 1, 1, 1, 1,\n",
       "       1, 1, 1, 1, 1, 1, 1, 1, 1, 1, 1, 1, 2, 2, 2, 2, 2, 2, 2, 2, 2, 2,\n",
       "       2, 2, 2, 2, 2, 2, 2, 2, 2, 2, 2, 2, 2, 2, 2, 2, 2, 2, 2, 2, 2, 2,\n",
       "       2, 2, 2, 2, 2, 2, 2, 2, 2, 2, 2, 2, 2, 2, 2, 2, 2, 2])"
      ]
     },
     "execution_count": 9,
     "metadata": {},
     "output_type": "execute_result"
    }
   ],
   "source": [
    "y"
   ]
  },
  {
   "cell_type": "markdown",
   "id": "5df7fd60-e59a-45f4-a252-dafa3d853e3e",
   "metadata": {},
   "source": [
    "- **Dataset Info:** The Iris dataset consists of 4 features (sepal length, sepal width, petal length, petal width) and a target variable with three classes (Setosa, Versicolor, Virginica)."
   ]
  },
  {
   "cell_type": "markdown",
   "id": "d02c50c0-5066-4695-a689-4ccf65cc1643",
   "metadata": {},
   "source": [
    "### 3. 🔀 Step 3: Split the Data\n",
    "**Description:** We'll split the dataset into training and testing sets to evaluate the model's performance later."
   ]
  },
  {
   "cell_type": "code",
   "execution_count": 3,
   "id": "8dabe2f7-dc0f-4896-ba29-4e9d958536fe",
   "metadata": {},
   "outputs": [],
   "source": [
    "X_train, X_test, y_train, y_test = train_test_split(X, y, test_size=0.3, random_state=42)"
   ]
  },
  {
   "cell_type": "markdown",
   "id": "ad130a37-da0f-46a2-9329-a9a12c8ab1ad",
   "metadata": {},
   "source": [
    "- **Why Split?:** Splitting ensures the model is evaluated on unseen data, helping to gauge its generalization ability."
   ]
  },
  {
   "cell_type": "markdown",
   "id": "18464b9d-e8e2-474b-abe4-8393cd723f6f",
   "metadata": {},
   "source": [
    "### 4. 🛠️ Step 4: Create a Pipeline\n",
    "**Description:** The pipeline simplifies the workflow by chaining multiple steps, including preprocessing and model training, into a single object. This ensures that the entire process is streamlined and consistent."
   ]
  },
  {
   "cell_type": "code",
   "execution_count": 4,
   "id": "e439b6e8-9c3f-4cd5-979e-4648a8f226ad",
   "metadata": {},
   "outputs": [],
   "source": [
    "pipeline = Pipeline([\n",
    "    ('scaler', StandardScaler()),   # Step 1: Scale the data\n",
    "    ('pca', PCA(n_components=2)),   # Step 2: Reduce dimensions\n",
    "    ('svc', SVC(kernel='linear'))   # Step 3: Train a Support Vector Classifier\n",
    "])"
   ]
  },
  {
   "cell_type": "markdown",
   "id": "f070b215-f5ae-4e0f-b583-cdc50ceb1588",
   "metadata": {},
   "source": [
    "#### Pipeline Explanation:\n",
    "- **Scaler:** Normalizes the features to have a mean of 0 and a standard deviation of 1. This improves the performance of many algorithms.\n",
    "- **PCA:** Reduces the feature space to 2 dimensions, making it easier to visualize and manage.\n",
    "- **SVC:** A Support Vector Classifier with a linear kernel, chosen for its effectiveness on small to medium-sized datasets."
   ]
  },
  {
   "cell_type": "markdown",
   "id": "7d9c806a-9686-4186-b437-457307baf7c7",
   "metadata": {},
   "source": [
    "### 5. 🚀 Step 5: Train the Model\n",
    "**Description:** We'll train the pipeline using the training data. The pipeline automatically applies each step in sequence."
   ]
  },
  {
   "cell_type": "code",
   "execution_count": 5,
   "id": "d946a680-3e93-464e-b771-05c5045527a7",
   "metadata": {},
   "outputs": [
    {
     "data": {
      "text/html": [
       "<style>#sk-container-id-1 {color: black;background-color: white;}#sk-container-id-1 pre{padding: 0;}#sk-container-id-1 div.sk-toggleable {background-color: white;}#sk-container-id-1 label.sk-toggleable__label {cursor: pointer;display: block;width: 100%;margin-bottom: 0;padding: 0.3em;box-sizing: border-box;text-align: center;}#sk-container-id-1 label.sk-toggleable__label-arrow:before {content: \"▸\";float: left;margin-right: 0.25em;color: #696969;}#sk-container-id-1 label.sk-toggleable__label-arrow:hover:before {color: black;}#sk-container-id-1 div.sk-estimator:hover label.sk-toggleable__label-arrow:before {color: black;}#sk-container-id-1 div.sk-toggleable__content {max-height: 0;max-width: 0;overflow: hidden;text-align: left;background-color: #f0f8ff;}#sk-container-id-1 div.sk-toggleable__content pre {margin: 0.2em;color: black;border-radius: 0.25em;background-color: #f0f8ff;}#sk-container-id-1 input.sk-toggleable__control:checked~div.sk-toggleable__content {max-height: 200px;max-width: 100%;overflow: auto;}#sk-container-id-1 input.sk-toggleable__control:checked~label.sk-toggleable__label-arrow:before {content: \"▾\";}#sk-container-id-1 div.sk-estimator input.sk-toggleable__control:checked~label.sk-toggleable__label {background-color: #d4ebff;}#sk-container-id-1 div.sk-label input.sk-toggleable__control:checked~label.sk-toggleable__label {background-color: #d4ebff;}#sk-container-id-1 input.sk-hidden--visually {border: 0;clip: rect(1px 1px 1px 1px);clip: rect(1px, 1px, 1px, 1px);height: 1px;margin: -1px;overflow: hidden;padding: 0;position: absolute;width: 1px;}#sk-container-id-1 div.sk-estimator {font-family: monospace;background-color: #f0f8ff;border: 1px dotted black;border-radius: 0.25em;box-sizing: border-box;margin-bottom: 0.5em;}#sk-container-id-1 div.sk-estimator:hover {background-color: #d4ebff;}#sk-container-id-1 div.sk-parallel-item::after {content: \"\";width: 100%;border-bottom: 1px solid gray;flex-grow: 1;}#sk-container-id-1 div.sk-label:hover label.sk-toggleable__label {background-color: #d4ebff;}#sk-container-id-1 div.sk-serial::before {content: \"\";position: absolute;border-left: 1px solid gray;box-sizing: border-box;top: 0;bottom: 0;left: 50%;z-index: 0;}#sk-container-id-1 div.sk-serial {display: flex;flex-direction: column;align-items: center;background-color: white;padding-right: 0.2em;padding-left: 0.2em;position: relative;}#sk-container-id-1 div.sk-item {position: relative;z-index: 1;}#sk-container-id-1 div.sk-parallel {display: flex;align-items: stretch;justify-content: center;background-color: white;position: relative;}#sk-container-id-1 div.sk-item::before, #sk-container-id-1 div.sk-parallel-item::before {content: \"\";position: absolute;border-left: 1px solid gray;box-sizing: border-box;top: 0;bottom: 0;left: 50%;z-index: -1;}#sk-container-id-1 div.sk-parallel-item {display: flex;flex-direction: column;z-index: 1;position: relative;background-color: white;}#sk-container-id-1 div.sk-parallel-item:first-child::after {align-self: flex-end;width: 50%;}#sk-container-id-1 div.sk-parallel-item:last-child::after {align-self: flex-start;width: 50%;}#sk-container-id-1 div.sk-parallel-item:only-child::after {width: 0;}#sk-container-id-1 div.sk-dashed-wrapped {border: 1px dashed gray;margin: 0 0.4em 0.5em 0.4em;box-sizing: border-box;padding-bottom: 0.4em;background-color: white;}#sk-container-id-1 div.sk-label label {font-family: monospace;font-weight: bold;display: inline-block;line-height: 1.2em;}#sk-container-id-1 div.sk-label-container {text-align: center;}#sk-container-id-1 div.sk-container {/* jupyter's `normalize.less` sets `[hidden] { display: none; }` but bootstrap.min.css set `[hidden] { display: none !important; }` so we also need the `!important` here to be able to override the default hidden behavior on the sphinx rendered scikit-learn.org. See: https://github.com/scikit-learn/scikit-learn/issues/21755 */display: inline-block !important;position: relative;}#sk-container-id-1 div.sk-text-repr-fallback {display: none;}</style><div id=\"sk-container-id-1\" class=\"sk-top-container\"><div class=\"sk-text-repr-fallback\"><pre>Pipeline(steps=[(&#x27;scaler&#x27;, StandardScaler()), (&#x27;pca&#x27;, PCA(n_components=2)),\n",
       "                (&#x27;svc&#x27;, SVC(kernel=&#x27;linear&#x27;))])</pre><b>In a Jupyter environment, please rerun this cell to show the HTML representation or trust the notebook. <br />On GitHub, the HTML representation is unable to render, please try loading this page with nbviewer.org.</b></div><div class=\"sk-container\" hidden><div class=\"sk-item sk-dashed-wrapped\"><div class=\"sk-label-container\"><div class=\"sk-label sk-toggleable\"><input class=\"sk-toggleable__control sk-hidden--visually\" id=\"sk-estimator-id-1\" type=\"checkbox\" ><label for=\"sk-estimator-id-1\" class=\"sk-toggleable__label sk-toggleable__label-arrow\">Pipeline</label><div class=\"sk-toggleable__content\"><pre>Pipeline(steps=[(&#x27;scaler&#x27;, StandardScaler()), (&#x27;pca&#x27;, PCA(n_components=2)),\n",
       "                (&#x27;svc&#x27;, SVC(kernel=&#x27;linear&#x27;))])</pre></div></div></div><div class=\"sk-serial\"><div class=\"sk-item\"><div class=\"sk-estimator sk-toggleable\"><input class=\"sk-toggleable__control sk-hidden--visually\" id=\"sk-estimator-id-2\" type=\"checkbox\" ><label for=\"sk-estimator-id-2\" class=\"sk-toggleable__label sk-toggleable__label-arrow\">StandardScaler</label><div class=\"sk-toggleable__content\"><pre>StandardScaler()</pre></div></div></div><div class=\"sk-item\"><div class=\"sk-estimator sk-toggleable\"><input class=\"sk-toggleable__control sk-hidden--visually\" id=\"sk-estimator-id-3\" type=\"checkbox\" ><label for=\"sk-estimator-id-3\" class=\"sk-toggleable__label sk-toggleable__label-arrow\">PCA</label><div class=\"sk-toggleable__content\"><pre>PCA(n_components=2)</pre></div></div></div><div class=\"sk-item\"><div class=\"sk-estimator sk-toggleable\"><input class=\"sk-toggleable__control sk-hidden--visually\" id=\"sk-estimator-id-4\" type=\"checkbox\" ><label for=\"sk-estimator-id-4\" class=\"sk-toggleable__label sk-toggleable__label-arrow\">SVC</label><div class=\"sk-toggleable__content\"><pre>SVC(kernel=&#x27;linear&#x27;)</pre></div></div></div></div></div></div></div>"
      ],
      "text/plain": [
       "Pipeline(steps=[('scaler', StandardScaler()), ('pca', PCA(n_components=2)),\n",
       "                ('svc', SVC(kernel='linear'))])"
      ]
     },
     "execution_count": 5,
     "metadata": {},
     "output_type": "execute_result"
    }
   ],
   "source": [
    "pipeline.fit(X_train, y_train)"
   ]
  },
  {
   "cell_type": "markdown",
   "id": "aa38cb82-dc55-456d-a505-1165592783cb",
   "metadata": {},
   "source": [
    "- **Training:** During training, the pipeline first scales the data, then applies PCA, and finally trains the SVC on the transformed data."
   ]
  },
  {
   "cell_type": "markdown",
   "id": "df18a2f3-1820-4ae9-be2c-d1e44e236ee6",
   "metadata": {},
   "source": [
    "### 6. 🧪 Step 6: Make Predictions\n",
    "**Description:** We'll use the trained model to predict the species of the flowers in the test set."
   ]
  },
  {
   "cell_type": "code",
   "execution_count": 6,
   "id": "c933239b-ead0-4ba5-a33f-51592fb75850",
   "metadata": {},
   "outputs": [],
   "source": [
    "y_pred = pipeline.predict(X_test)"
   ]
  },
  {
   "cell_type": "markdown",
   "id": "fedc7742-dffa-4c42-a760-2a20077263b9",
   "metadata": {},
   "source": [
    "### 7. 📈 Step 7: Evaluate the Model\n",
    "**Description:** Finally, we'll evaluate the model's performance using accuracy as the metric."
   ]
  },
  {
   "cell_type": "code",
   "execution_count": 7,
   "id": "603b72c0-9e40-41b6-aae8-20af0a6e6fdf",
   "metadata": {},
   "outputs": [
    {
     "name": "stdout",
     "output_type": "stream",
     "text": [
      "Model Accuracy: 93.33%\n"
     ]
    }
   ],
   "source": [
    "accuracy = accuracy_score(y_test, y_pred)\n",
    "print(f\"Model Accuracy: {accuracy * 100:.2f}%\")"
   ]
  },
  {
   "cell_type": "markdown",
   "id": "d330a2eb-662f-44a0-b573-1c7facbc0b46",
   "metadata": {},
   "source": [
    "- **Why Accuracy?:** Accuracy is a simple and intuitive metric to evaluate classification performance, especially for balanced datasets like Iris."
   ]
  }
 ],
 "metadata": {
  "kernelspec": {
   "display_name": "Python 3 (ipykernel)",
   "language": "python",
   "name": "python3"
  },
  "language_info": {
   "codemirror_mode": {
    "name": "ipython",
    "version": 3
   },
   "file_extension": ".py",
   "mimetype": "text/x-python",
   "name": "python",
   "nbconvert_exporter": "python",
   "pygments_lexer": "ipython3",
   "version": "3.11.7"
  }
 },
 "nbformat": 4,
 "nbformat_minor": 5
}
