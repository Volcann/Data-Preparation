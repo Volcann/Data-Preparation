{
 "cells": [
  {
   "cell_type": "markdown",
   "id": "8fa10c80-6262-42ac-a37c-5595b003c7a8",
   "metadata": {},
   "source": [
    "## 🔍 Understanding Outliers\n",
    "   Outliers are data points that differ significantly from other observations. They can arise from errors in data entry, measurement variations, or other factors.\n",
    "\n",
    "2. **🛠️ Techniques for Outlier Detection**  \n",
    "   a. **📊 Visual Methods**  \n",
    "      - **Box Plot:** A box plot helps to visualize the distribution of data and identify potential outliers. Outliers are typically points that fall outside 1.5 times the interquartile range (IQR) above the third quartile or below the first quartile."
   ]
  },
  {
   "cell_type": "code",
   "execution_count": 1,
   "id": "3130b3ec-1970-4e56-a803-7e18b651afc3",
   "metadata": {},
   "outputs": [
    {
     "data": {
      "image/png": "[encoded data removed]",
      "text/plain": [
       "<Figure size 640x480 with 1 Axes>"
      ]
     },
     "metadata": {},
     "output_type": "display_data"
    }
   ],
   "source": [
    "import matplotlib.pyplot as plt\n",
    "import seaborn as sns\n",
    "\n",
    "# Example data\n",
    "data = [10, 12, 14, 15, 16, 100, 120]  # Sample data with outliers\n",
    "\n",
    "sns.boxplot(data)\n",
    "plt.show()"
   ]
  },
  {
   "cell_type": "markdown",
   "id": "98d418ae-547d-493e-84d5-6bba5f2b25ee",
   "metadata": {},
   "source": [
    "- **Scatter Plot:** Useful for visualizing the relationship between two variables and spotting anomalies."
   ]
  },
  {
   "cell_type": "code",
   "execution_count": 2,
   "id": "8312a825-503c-4168-ba04-0a3cdda865b3",
   "metadata": {},
   "outputs": [
    {
     "data": {
      "image/png": "[encoded data removed]",
      "text/plain": [
       "<Figure size 640x480 with 1 Axes>"
      ]
     },
     "metadata": {},
     "output_type": "display_data"
    }
   ],
   "source": [
    "import numpy as np\n",
    "\n",
    "x = np.array([1, 2, 3, 4, 5, 100])\n",
    "y = np.array([10, 20, 30, 40, 50, 500])\n",
    "\n",
    "plt.scatter(x, y)\n",
    "plt.xlabel('X-axis')\n",
    "plt.ylabel('Y-axis')\n",
    "plt.show()"
   ]
  },
  {
   "cell_type": "markdown",
   "id": "9e13fa26-df86-46bc-ab9e-3dc84ca3d1a6",
   "metadata": {},
   "source": [
    "b. **📏 Statistical Methods**  \n",
    "- **Z-Score:** Measures how many standard deviations a data point is from the mean. A common threshold is 3.0; points with a z-score greater than this are considered outliers."
   ]
  },
  {
   "cell_type": "code",
   "execution_count": 11,
   "id": "c37bb05c-0dff-4582-8990-b9e95b2392fb",
   "metadata": {},
   "outputs": [
    {
     "name": "stdout",
     "output_type": "stream",
     "text": [
      "[0.45645414 0.45101476 0.44557539 0.4428557  0.44013601 2.236036  ]\n"
     ]
    }
   ],
   "source": [
    "from scipy import stats\n",
    "import numpy as np\n",
    "\n",
    "data = np.array([10, 12, 14, 15, 16, 1000])\n",
    "z_scores = np.abs(stats.zscore(data)) # Z\n",
    "print(z_scores)"
   ]
  },
  {
   "cell_type": "markdown",
   "id": "1ce0b1c0-ea81-411e-bb01-83d2fac024fc",
   "metadata": {},
   "source": [
    "- The Z-score is a statistical measure that describes how many standard deviations a data point is from the mean of the dataset. It’s useful for identifying how unusual or extreme a particular value is in the context of a distribution.\n",
    "- 1.34081016 , 1.79532207 mean data points are too far they must exist after 3.0 Standard deviation"
   ]
  },
  {
   "cell_type": "markdown",
   "id": "870f3c2b-a636-42a8-aa07-f78b2406881d",
   "metadata": {},
   "source": [
    "- **IQR Method:** Uses the Interquartile Range (IQR) to define the range within which most of the data lies. Points outside 1.5 * IQR above the third quartile or below the first quartile are considered outliers."
   ]
  },
  {
   "cell_type": "code",
   "execution_count": 12,
   "id": "ed98c024-893b-4dfe-a8cd-b26e141985f2",
   "metadata": {},
   "outputs": [
    {
     "name": "stdout",
     "output_type": "stream",
     "text": [
      "[1000]\n"
     ]
    }
   ],
   "source": [
    "Q1 = np.percentile(data, 25)\n",
    "Q3 = np.percentile(data, 75)\n",
    "IQR = Q3 - Q1\n",
    "\n",
    "lower_bound = Q1 - 1.5 * IQR\n",
    "upper_bound = Q3 + 1.5 * IQR\n",
    "\n",
    "outliers = [x for x in data if x < lower_bound or x > upper_bound]\n",
    "print(outliers)"
   ]
  },
  {
   "cell_type": "markdown",
   "id": "bd4292c7-2d6a-4fce-88bd-6dee9c08ad03",
   "metadata": {},
   "source": [
    "1. **🗑️ Removing Outliers**  \n",
    "   Once you’ve identified outliers using the techniques above, you can remove them by filtering the dataset."
   ]
  },
  {
   "cell_type": "markdown",
   "id": "a568a652-f286-40bf-a24b-1d82b2c7283f",
   "metadata": {},
   "source": [
    "### IQR Method of Outlier Removal 📉\n",
    "\n",
    "The **Interquartile Range (IQR)** method is used to detect and remove outliers from data. It works by measuring the spread of the middle 50% of the data, which is the range between the first quartile (Q1) and the third quartile (Q3). Outliers are values that fall significantly below Q1 or above Q3.\n",
    "\n",
    "#### How It Works:\n",
    "1. **Calculate Q1 and Q3:** Find the 25th percentile (Q1) and the 75th percentile (Q3) of your dataset.\n",
    "2. **Compute IQR:** Subtract Q1 from Q3 (IQR = Q3 - Q1).\n",
    "3. **Determine Outlier Boundaries:** \n",
    "   - **Lower Bound:** Q1 - 1.5 * IQR\n",
    "   - **Upper Bound:** Q3 + 1.5 * IQR\n",
    "4. **Identify Outliers:** Values outside these boundaries are considered outliers and can be removed from the dataset."
   ]
  },
  {
   "cell_type": "code",
   "execution_count": 15,
   "id": "994190e0-a3bc-476b-9f0c-a9bf8fad8d41",
   "metadata": {},
   "outputs": [
    {
     "name": "stdout",
     "output_type": "stream",
     "text": [
      "[10, 12, 14, 15, 16]\n"
     ]
    }
   ],
   "source": [
    "data = np.array([10, 12, 14, 15, 16, 1000])\n",
    "\n",
    "# Example using IQR method\n",
    "Q1 = np.percentile(data, 25)\n",
    "Q3 = np.percentile(data, 75)\n",
    "IQR = Q3 - Q1\n",
    "\n",
    "lower_bound = Q1 - 1.5 * IQR\n",
    "upper_bound = Q3 + 1.5 * IQR\n",
    "\n",
    "cleaned_data = [x for x in data if x >= lower_bound and x <= upper_bound]\n",
    "print(cleaned_data)"
   ]
  },
  {
   "cell_type": "markdown",
   "id": "5369b3ee-f933-4666-aa9b-a97cbc56a5f6",
   "metadata": {},
   "source": [
    "### Z-Score Method of Outlier Removal 📊\n",
    "\n",
    "The **Z-Score** method identifies outliers by measuring how many standard deviations a data point is from the mean of the dataset. A Z-score indicates how far a particular value is from the average.\n",
    "\n",
    "#### How It Works:\n",
    "- **Calculate the Mean (μ):** Find the average of your dataset.\n",
    "- **Calculate the Standard Deviation (σ):** Measure the spread of the data points around the mean.\n",
    "- **Compute Z-Scores:** For each data point, calculate the Z-score using the formula:\n",
    "    - `Z = (X - mean) / sigma` (where `X` is the data point)\n",
    "\n",
    "- **Determine Outlier Threshold:** Typically, a Z-score beyond ±2 or ±3 is considered an outlier, depending on the desired sensitivity."
   ]
  },
  {
   "cell_type": "code",
   "execution_count": 34,
   "id": "a2e98c6c-3e3b-4b84-9dec-de2d37d3a600",
   "metadata": {},
   "outputs": [
    {
     "name": "stdout",
     "output_type": "stream",
     "text": [
      "Outliers: []\n"
     ]
    }
   ],
   "source": [
    "import numpy as np\n",
    "\n",
    "def z_score_outliers(data, threshold=3):\n",
    "    \"\"\"\n",
    "    Identify outliers in a dataset using the Z-score method.\n",
    "\n",
    "    Parameters:\n",
    "    data (list or numpy array): The dataset to analyze.\n",
    "    threshold (float): The Z-score threshold to classify outliers.\n",
    "\n",
    "    Returns:\n",
    "    outliers (list): A list of outlier values.\n",
    "    \"\"\"\n",
    "    # Convert data to a numpy array if it's not already\n",
    "    data = np.array(data)\n",
    "\n",
    "    # Calculate mean and standard deviation\n",
    "    mean = np.mean(data)\n",
    "    std_dev = np.std(data)\n",
    "\n",
    "    # Calculate Z-scores for each data point\n",
    "    z_scores = (data - mean) / std_dev\n",
    "\n",
    "    # Identify outliers\n",
    "    outliers = data[np.abs(z_scores) > threshold]\n",
    "\n",
    "    return outliers\n",
    "\n",
    "# Example usage\n",
    "data = [50, 55, 56, 60, 62, 65, 100]\n",
    "outliers = z_score_outliers(data)\n",
    "\n",
    "print(\"Outliers:\", outliers)"
   ]
  }
 ],
 "metadata": {
  "kernelspec": {
   "display_name": "Python 3 (ipykernel)",
   "language": "python",
   "name": "python3"
  },
  "language_info": {
   "codemirror_mode": {
    "name": "ipython",
    "version": 3
   },
   "file_extension": ".py",
   "mimetype": "text/x-python",
   "name": "python",
   "nbconvert_exporter": "python",
   "pygments_lexer": "ipython3",
   "version": "3.11.7"
  }
 },
 "nbformat": 4,
 "nbformat_minor": 5
}
